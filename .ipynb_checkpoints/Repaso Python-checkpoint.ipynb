{
 "cells": [
  {
   "cell_type": "markdown",
   "id": "narrative-primary",
   "metadata": {},
   "source": [
    "# Esto es una etiqueta\n",
    "\n",
    "<b>Esto es <i>importante</i><b>"
   ]
  },
  {
   "cell_type": "markdown",
   "id": "micro-reset",
   "metadata": {},
   "source": [
    "$$ \\theta_{(i)} = \\frac{x+y}{a+b^2} $$\n",
    "$$ \\sum_{i=0}^{j}(X_1\\cdot X^T)$$"
   ]
  },
  {
   "cell_type": "code",
   "execution_count": 9,
   "id": "durable-solomon",
   "metadata": {},
   "outputs": [
    {
     "name": "stdout",
     "output_type": "stream",
     "text": [
      "9\n",
      "1\n",
      "1.25\n",
      "2\n",
      "1\n",
      "16\n"
     ]
    }
   ],
   "source": [
    "# Esto es un comentario\n",
    "print(5+4)\n",
    "print(5-4)\n",
    "print(5/4)\n",
    "print(9//4)\n",
    "print(5%4)\n",
    "print(2**4)"
   ]
  },
  {
   "cell_type": "code",
   "execution_count": 16,
   "id": "embedded-width",
   "metadata": {},
   "outputs": [
    {
     "name": "stdout",
     "output_type": "stream",
     "text": [
      "<class 'int'>\n",
      "<class 'float'>\n",
      "<class 'str'>\n",
      "<class 'bool'>\n",
      "<class 'complex'>\n"
     ]
    }
   ],
   "source": [
    "print(type(5))\n",
    "print(type(5.5))\n",
    "print(type(\"5\"))\n",
    "print(type(True))\n",
    "print(type(5+7j))"
   ]
  },
  {
   "cell_type": "code",
   "execution_count": 31,
   "id": "postal-illustration",
   "metadata": {},
   "outputs": [
    {
     "name": "stdout",
     "output_type": "stream",
     "text": [
      "<class 'list'>\n",
      "<class 'set'>\n",
      "<class 'tuple'>\n",
      "<class 'dict'>\n"
     ]
    }
   ],
   "source": [
    "print(type([1, 2, 5, 6]))\n",
    "print(type({1, 2, 5, 6}))\n",
    "print(type((1, 2, 3, 4)))\n",
    "print(type({ 'a':45.6, 'b':74.2, 'c':14}))"
   ]
  },
  {
   "cell_type": "code",
   "execution_count": 1,
   "id": "warming-spouse",
   "metadata": {},
   "outputs": [],
   "source": [
    "values = [4, 6, 2, 7, -1, 0, 11]"
   ]
  },
  {
   "cell_type": "code",
   "execution_count": 2,
   "id": "legitimate-celebration",
   "metadata": {},
   "outputs": [
    {
     "data": {
      "text/plain": [
       "4"
      ]
     },
     "execution_count": 2,
     "metadata": {},
     "output_type": "execute_result"
    }
   ],
   "source": [
    "values[0]"
   ]
  },
  {
   "cell_type": "code",
   "execution_count": 3,
   "id": "spanish-istanbul",
   "metadata": {},
   "outputs": [
    {
     "data": {
      "text/plain": [
       "-1"
      ]
     },
     "execution_count": 3,
     "metadata": {},
     "output_type": "execute_result"
    }
   ],
   "source": [
    "values[4]"
   ]
  },
  {
   "cell_type": "code",
   "execution_count": 4,
   "id": "illegal-forum",
   "metadata": {},
   "outputs": [
    {
     "data": {
      "text/plain": [
       "11"
      ]
     },
     "execution_count": 4,
     "metadata": {},
     "output_type": "execute_result"
    }
   ],
   "source": [
    "values[-1]"
   ]
  },
  {
   "cell_type": "code",
   "execution_count": 5,
   "id": "asian-nomination",
   "metadata": {},
   "outputs": [
    {
     "data": {
      "text/plain": [
       "[2, 7, -1]"
      ]
     },
     "execution_count": 5,
     "metadata": {},
     "output_type": "execute_result"
    }
   ],
   "source": [
    "values[2:5]"
   ]
  },
  {
   "cell_type": "code",
   "execution_count": 6,
   "id": "suspended-future",
   "metadata": {},
   "outputs": [
    {
     "data": {
      "text/plain": [
       "[7, -1]"
      ]
     },
     "execution_count": 6,
     "metadata": {},
     "output_type": "execute_result"
    }
   ],
   "source": [
    "values[-4:-2]"
   ]
  },
  {
   "cell_type": "code",
   "execution_count": 7,
   "id": "experimental-roman",
   "metadata": {},
   "outputs": [
    {
     "data": {
      "text/plain": [
       "[]"
      ]
     },
     "execution_count": 7,
     "metadata": {},
     "output_type": "execute_result"
    }
   ],
   "source": [
    "values[5:2]"
   ]
  },
  {
   "cell_type": "code",
   "execution_count": 8,
   "id": "continuous-contract",
   "metadata": {},
   "outputs": [
    {
     "data": {
      "text/plain": [
       "[7, -1, 0, 11]"
      ]
     },
     "execution_count": 8,
     "metadata": {},
     "output_type": "execute_result"
    }
   ],
   "source": [
    "values[3:]"
   ]
  },
  {
   "cell_type": "code",
   "execution_count": 9,
   "id": "theoretical-fountain",
   "metadata": {},
   "outputs": [
    {
     "data": {
      "text/plain": [
       "[4, 6, 2, 7]"
      ]
     },
     "execution_count": 9,
     "metadata": {},
     "output_type": "execute_result"
    }
   ],
   "source": [
    "values[:4]"
   ]
  },
  {
   "cell_type": "code",
   "execution_count": 10,
   "id": "architectural-consultation",
   "metadata": {},
   "outputs": [
    {
     "data": {
      "text/plain": [
       "[4, 6, 2, 7, -1, 0, 11]"
      ]
     },
     "execution_count": 10,
     "metadata": {},
     "output_type": "execute_result"
    }
   ],
   "source": [
    "values[:]"
   ]
  },
  {
   "cell_type": "code",
   "execution_count": 20,
   "id": "forward-entertainment",
   "metadata": {},
   "outputs": [],
   "source": [
    "values = [4, 6, 2, 7, -1, 0, 11]"
   ]
  },
  {
   "cell_type": "code",
   "execution_count": 14,
   "id": "described-scoop",
   "metadata": {},
   "outputs": [
    {
     "data": {
      "text/plain": [
       "[4, 6, -5, -4, -1, 0, 11]"
      ]
     },
     "execution_count": 14,
     "metadata": {},
     "output_type": "execute_result"
    }
   ],
   "source": [
    "values[2:4] = [-5, -4]\n",
    "values"
   ]
  },
  {
   "cell_type": "code",
   "execution_count": 16,
   "id": "monetary-halloween",
   "metadata": {},
   "outputs": [
    {
     "data": {
      "text/plain": [
       "[4, 6, -5, -4, 0, 1, 21, 45, -1, 0, 11]"
      ]
     },
     "execution_count": 16,
     "metadata": {},
     "output_type": "execute_result"
    }
   ],
   "source": [
    "values[2:4] = [-5, -4, 0, 1, 21, 45]\n",
    "values"
   ]
  },
  {
   "cell_type": "code",
   "execution_count": 17,
   "id": "awful-premiere",
   "metadata": {},
   "outputs": [
    {
     "data": {
      "text/plain": [
       "[4, 6, -5, -4, 0, 1, 21, 45, -1, 0, 11, 5]"
      ]
     },
     "execution_count": 17,
     "metadata": {},
     "output_type": "execute_result"
    }
   ],
   "source": [
    "values.append(5)\n",
    "values"
   ]
  },
  {
   "cell_type": "code",
   "execution_count": 18,
   "id": "changing-whale",
   "metadata": {},
   "outputs": [
    {
     "data": {
      "text/plain": [
       "[4, 6, -5, -4, 0, 1, 21, 45, -1, 0, 11, 5, [1, 5, 6]]"
      ]
     },
     "execution_count": 18,
     "metadata": {},
     "output_type": "execute_result"
    }
   ],
   "source": [
    "values.append([1,5,6])\n",
    "values"
   ]
  },
  {
   "cell_type": "code",
   "execution_count": 19,
   "id": "chicken-comedy",
   "metadata": {},
   "outputs": [
    {
     "data": {
      "text/plain": [
       "[1, 5.65, True, [1, 2, 3], (1, 9, 29)]"
      ]
     },
     "execution_count": 19,
     "metadata": {},
     "output_type": "execute_result"
    }
   ],
   "source": [
    "[1, 5.65, True, [1,2,3], (1,9,29)]"
   ]
  },
  {
   "cell_type": "code",
   "execution_count": 21,
   "id": "endangered-chess",
   "metadata": {},
   "outputs": [
    {
     "data": {
      "text/plain": [
       "[4, 6, 2, 7, -1, 0, 11, 1, 5, 6]"
      ]
     },
     "execution_count": 21,
     "metadata": {},
     "output_type": "execute_result"
    }
   ],
   "source": [
    "values.extend([1,5,6])\n",
    "values"
   ]
  },
  {
   "cell_type": "code",
   "execution_count": 23,
   "id": "consolidated-framework",
   "metadata": {},
   "outputs": [
    {
     "data": {
      "text/plain": [
       "[4, 6, 2, 7, -1, 0, 11, 1]"
      ]
     },
     "execution_count": 23,
     "metadata": {},
     "output_type": "execute_result"
    }
   ],
   "source": [
    "values.pop()\n",
    "values"
   ]
  },
  {
   "cell_type": "code",
   "execution_count": 24,
   "id": "functional-waste",
   "metadata": {},
   "outputs": [
    {
     "data": {
      "text/plain": [
       "[4, 6, 2, -1, 0, 11, 1]"
      ]
     },
     "execution_count": 24,
     "metadata": {},
     "output_type": "execute_result"
    }
   ],
   "source": [
    "values.remove(7)\n",
    "values"
   ]
  },
  {
   "cell_type": "code",
   "execution_count": 28,
   "id": "architectural-saudi",
   "metadata": {},
   "outputs": [
    {
     "data": {
      "text/plain": [
       "[]"
      ]
     },
     "execution_count": 28,
     "metadata": {},
     "output_type": "execute_result"
    }
   ],
   "source": [
    "values.clear()\n",
    "values"
   ]
  },
  {
   "cell_type": "code",
   "execution_count": 30,
   "id": "reasonable-mainland",
   "metadata": {},
   "outputs": [],
   "source": [
    "values = [4, 6, 2, 7, -1, 0, 11]"
   ]
  },
  {
   "cell_type": "code",
   "execution_count": 44,
   "id": "signal-folder",
   "metadata": {},
   "outputs": [
    {
     "name": "stdout",
     "output_type": "stream",
     "text": [
      "4\n",
      "6\n",
      "2\n",
      "7\n",
      "-1\n",
      "0\n",
      "11\n"
     ]
    }
   ],
   "source": [
    "for i in values:\n",
    "    print(i)"
   ]
  },
  {
   "cell_type": "code",
   "execution_count": 45,
   "id": "coordinated-scheme",
   "metadata": {},
   "outputs": [
    {
     "name": "stdout",
     "output_type": "stream",
     "text": [
      "2\n",
      "4\n",
      "6\n"
     ]
    }
   ],
   "source": [
    "for i in range(2,8,2):\n",
    "    print(i)"
   ]
  },
  {
   "cell_type": "code",
   "execution_count": 47,
   "id": "african-fortune",
   "metadata": {},
   "outputs": [
    {
     "name": "stdout",
     "output_type": "stream",
     "text": [
      "4\n",
      "6\n",
      "2\n",
      "7\n",
      "-1\n",
      "0\n",
      "11\n"
     ]
    }
   ],
   "source": [
    "for i in range(len(values)):\n",
    "    print(values[i])"
   ]
  },
  {
   "cell_type": "code",
   "execution_count": 50,
   "id": "offshore-freedom",
   "metadata": {},
   "outputs": [
    {
     "name": "stdout",
     "output_type": "stream",
     "text": [
      "8\n",
      "7\n",
      "6\n",
      "5\n",
      "4\n",
      "3\n"
     ]
    }
   ],
   "source": [
    "for i in range(8,2,-1):\n",
    "    print(i)"
   ]
  },
  {
   "cell_type": "code",
   "execution_count": 56,
   "id": "pediatric-cooling",
   "metadata": {},
   "outputs": [
    {
     "name": "stdout",
     "output_type": "stream",
     "text": [
      "0\n",
      "Finalizó lista!!!\n",
      "1\n",
      "Finalizó lista!!!\n",
      "2\n",
      "Finalizó lista!!!\n",
      "3\n",
      "Finalizó lista!!!\n",
      "4\n",
      "Finalizó lista!!!\n",
      "5\n",
      "Finalizó lista!!!\n",
      "6\n",
      "Finalizó lista!!!\n",
      "7\n",
      "Finalizó lista!!!\n",
      "8\n",
      "Finalizó lista!!!\n",
      "9\n",
      "Finalizó lista!!!\n"
     ]
    }
   ],
   "source": [
    "for i in range(10):\n",
    "    print(i)\n",
    "    if i == 5:\n",
    "        break\n",
    "else:\n",
    "    print(\"Finalizó lista!!!\")"
   ]
  },
  {
   "cell_type": "code",
   "execution_count": null,
   "id": "hourly-exhibition",
   "metadata": {},
   "outputs": [],
   "source": [
    "values = [4, 6, 2, 7, -1, 0, 11]"
   ]
  },
  {
   "cell_type": "code",
   "execution_count": 52,
   "id": "bored-relative",
   "metadata": {},
   "outputs": [
    {
     "data": {
      "text/plain": [
       "[16, 36, 4, 49, 1, 0, 121]"
      ]
     },
     "execution_count": 52,
     "metadata": {},
     "output_type": "execute_result"
    }
   ],
   "source": [
    "new_values = []\n",
    "for i in values:\n",
    "    new_values.append(i**2)\n",
    "\n",
    "new_values"
   ]
  },
  {
   "cell_type": "code",
   "execution_count": null,
   "id": "dynamic-triangle",
   "metadata": {},
   "outputs": [],
   "source": []
  }
 ],
 "metadata": {
  "kernelspec": {
   "display_name": "Python 3",
   "language": "python",
   "name": "python3"
  },
  "language_info": {
   "codemirror_mode": {
    "name": "ipython",
    "version": 3
   },
   "file_extension": ".py",
   "mimetype": "text/x-python",
   "name": "python",
   "nbconvert_exporter": "python",
   "pygments_lexer": "ipython3",
   "version": "3.8.8"
  }
 },
 "nbformat": 4,
 "nbformat_minor": 5
}
