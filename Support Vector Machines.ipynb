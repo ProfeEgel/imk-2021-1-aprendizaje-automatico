{
 "cells": [
  {
   "cell_type": "code",
   "execution_count": 1,
   "id": "8c50a72e",
   "metadata": {},
   "outputs": [],
   "source": [
    "import numpy as np"
   ]
  },
  {
   "cell_type": "code",
   "execution_count": 2,
   "id": "476cb280",
   "metadata": {},
   "outputs": [],
   "source": [
    "from sklearn import datasets\n",
    "from sklearn.pipeline import Pipeline\n",
    "from sklearn.preprocessing import StandardScaler\n",
    "from sklearn.svm import LinearSVC\n",
    "from sklearn.svm import SVC"
   ]
  },
  {
   "cell_type": "code",
   "execution_count": 147,
   "id": "8be7e9e0",
   "metadata": {},
   "outputs": [],
   "source": [
    "iris = datasets.load_iris()\n",
    "X = iris[\"data\"][:, (2,3)] # petal length & petal width\n",
    "y = (iris[\"target\"]==1).astype(np.int32)\n",
    "#y = iris[\"target\"]"
   ]
  },
  {
   "cell_type": "code",
   "execution_count": 151,
   "id": "893cfa30",
   "metadata": {},
   "outputs": [
    {
     "data": {
      "text/plain": [
       "Pipeline(steps=[('scaler', StandardScaler()),\n",
       "                ('nonlinear_svm', SVC(C=1, random_state=55))])"
      ]
     },
     "execution_count": 151,
     "metadata": {},
     "output_type": "execute_result"
    }
   ],
   "source": [
    "model = Pipeline([\n",
    "    (\"scaler\", StandardScaler()),\n",
    "    #(\"linear_svm\", LinearSVC(C=1, loss=\"hinge\", random_state=55))\n",
    "    #(\"linear_svm\", SVC(C=1, kernel=\"linear\", random_state=55))\n",
    "    (\"nonlinear_svm\", SVC(C=1, kernel=\"rbf\", random_state=55))\n",
    "])\n",
    "model.fit(X, y)"
   ]
  },
  {
   "cell_type": "code",
   "execution_count": 152,
   "id": "f4600f89",
   "metadata": {},
   "outputs": [],
   "source": [
    "from matplotlib.colors import ListedColormap\n",
    "import matplotlib.pyplot as plt\n",
    "\n",
    "def plot_decision_regions(X, y, classifier, test_idx=None, resolution=0.02):\n",
    "\n",
    "    # setup marker generator and color map\n",
    "    markers = ('s', 'x', 'o', '^', 'v')\n",
    "    colors = ('red', 'blue', 'lightgreen', 'gray', 'cyan')\n",
    "    cmap = ListedColormap(colors[:len(np.unique(y))])\n",
    "\n",
    "    # plot the decision surface\n",
    "    x1_min, x1_max = X[:, 0].min() - 1, X[:, 0].max() + 1\n",
    "    x2_min, x2_max = X[:, 1].min() - 1, X[:, 1].max() + 1\n",
    "    xx1, xx2 = np.meshgrid(np.arange(x1_min, x1_max, resolution),\n",
    "                           np.arange(x2_min, x2_max, resolution))\n",
    "    Z = classifier.predict(np.array([xx1.ravel(), xx2.ravel()]).T)\n",
    "    Z = Z.reshape(xx1.shape)\n",
    "    plt.contourf(xx1, xx2, Z, alpha=0.3, cmap=cmap)\n",
    "    plt.xlim(xx1.min(), xx1.max())\n",
    "    plt.ylim(xx2.min(), xx2.max())\n",
    "\n",
    "    for idx, cl in enumerate(np.unique(y)):\n",
    "        plt.scatter(x=X[y == cl, 0], \n",
    "                    y=X[y == cl, 1],\n",
    "                    alpha=0.8, \n",
    "                    c=colors[idx],\n",
    "                    marker=markers[idx], \n",
    "                    label=cl, \n",
    "                    edgecolor='black')\n",
    "\n",
    "    # highlight test examples\n",
    "    if test_idx:\n",
    "        # plot all examples\n",
    "        X_test, y_test = X[test_idx, :], y[test_idx]\n",
    "\n",
    "        plt.scatter(X_test[:, 0],\n",
    "                    X_test[:, 1],\n",
    "                    c='',\n",
    "                    edgecolor='black',\n",
    "                    alpha=1.0,\n",
    "                    linewidth=1,\n",
    "                    marker='o',\n",
    "                    s=100, \n",
    "                    label='test set')"
   ]
  },
  {
   "cell_type": "code",
   "execution_count": 153,
   "id": "4d8fa5d9",
   "metadata": {},
   "outputs": [
    {
     "data": {
      "image/png": "[encoded data removed]",
      "text/plain": [
       "<Figure size 432x288 with 1 Axes>"
      ]
     },
     "metadata": {
      "needs_background": "light"
     },
     "output_type": "display_data"
    }
   ],
   "source": [
    "plot_decision_regions(X=X, y=y, classifier=model)\n",
    "plt.xlabel(\"petal width\")\n",
    "plt.ylabel(\"petal length\")\n",
    "plt.legend(loc=\"upper left\")\n",
    "plt.tight_layout()\n",
    "plt.show()"
   ]
  },
  {
   "cell_type": "code",
   "execution_count": 139,
   "id": "435cb6aa",
   "metadata": {},
   "outputs": [
    {
     "data": {
      "text/plain": [
       "array([0, 0])"
      ]
     },
     "execution_count": 139,
     "metadata": {},
     "output_type": "execute_result"
    }
   ],
   "source": [
    "model.predict([[3, 0.5], [4, 0.5]])"
   ]
  },
  {
   "cell_type": "code",
   "execution_count": 140,
   "id": "319bcea9",
   "metadata": {},
   "outputs": [
    {
     "data": {
      "text/plain": [
       "array([[ 0.06273943, -0.98127949, -5.40703694],\n",
       "       [-0.65825303, -0.96031139, -4.47870456]])"
      ]
     },
     "execution_count": 140,
     "metadata": {},
     "output_type": "execute_result"
    }
   ],
   "source": [
    "model.decision_function([[3, 0.5], [4, 0.5]])"
   ]
  },
  {
   "cell_type": "code",
   "execution_count": 141,
   "id": "fbaffb9f",
   "metadata": {},
   "outputs": [
    {
     "name": "stdout",
     "output_type": "stream",
     "text": [
      "[[-1.26851706 -1.06697796]\n",
      " [ 0.03689136 -0.0330041 ]\n",
      " [ 1.63331177  2.38789274]]\n",
      "[-1.46597701 -0.99576752 -2.50519172]\n"
     ]
    }
   ],
   "source": [
    "print(model.steps[1][1].coef_)\n",
    "print(model.steps[1][1].intercept_)"
   ]
  },
  {
   "cell_type": "code",
   "execution_count": 142,
   "id": "66da079b",
   "metadata": {},
   "outputs": [],
   "source": [
    "from sklearn.metrics import classification_report, confusion_matrix"
   ]
  },
  {
   "cell_type": "code",
   "execution_count": 107,
   "id": "fe1cb43c",
   "metadata": {},
   "outputs": [],
   "source": [
    "predictions = model.predict(X)"
   ]
  },
  {
   "cell_type": "code",
   "execution_count": 108,
   "id": "d0c25fc8",
   "metadata": {},
   "outputs": [
    {
     "name": "stdout",
     "output_type": "stream",
     "text": [
      "[[98  2]\n",
      " [ 4 46]]\n"
     ]
    }
   ],
   "source": [
    "print(confusion_matrix(y, predictions))"
   ]
  },
  {
   "cell_type": "code",
   "execution_count": 109,
   "id": "7d3bc7b2",
   "metadata": {},
   "outputs": [
    {
     "name": "stdout",
     "output_type": "stream",
     "text": [
      "              precision    recall  f1-score   support\n",
      "\n",
      "           0       0.96      0.98      0.97       100\n",
      "           1       0.96      0.92      0.94        50\n",
      "\n",
      "    accuracy                           0.96       150\n",
      "   macro avg       0.96      0.95      0.95       150\n",
      "weighted avg       0.96      0.96      0.96       150\n",
      "\n"
     ]
    }
   ],
   "source": [
    "print(classification_report(y, predictions))"
   ]
  },
  {
   "cell_type": "code",
   "execution_count": 124,
   "id": "237ad034",
   "metadata": {},
   "outputs": [],
   "source": [
    "from sklearn.model_selection import GridSearchCV"
   ]
  },
  {
   "cell_type": "code",
   "execution_count": 125,
   "id": "22fc1f06",
   "metadata": {},
   "outputs": [],
   "source": [
    "param_grid = { \"C\":[0.1, 1, 10, 100, 1000], \"loss\":[\"hinge\", \"squared_hinge\"] }"
   ]
  },
  {
   "cell_type": "code",
   "execution_count": 126,
   "id": "a7d9e8da",
   "metadata": {},
   "outputs": [],
   "source": [
    "scaler = StandardScaler()\n",
    "scaler.fit(X)\n",
    "X_t = scaler.transform(X)"
   ]
  },
  {
   "cell_type": "code",
   "execution_count": 127,
   "id": "08cbb387",
   "metadata": {},
   "outputs": [],
   "source": [
    "grid = GridSearchCV(LinearSVC(max_iter=1000000, random_state=55), param_grid, verbose=3)"
   ]
  },
  {
   "cell_type": "code",
   "execution_count": 128,
   "id": "fc491640",
   "metadata": {
    "scrolled": true
   },
   "outputs": [
    {
     "name": "stdout",
     "output_type": "stream",
     "text": [
      "Fitting 5 folds for each of 10 candidates, totalling 50 fits\n",
      "[CV 1/5] END ..............................C=0.1, loss=hinge; total time=   0.0s\n",
      "[CV 2/5] END ..............................C=0.1, loss=hinge; total time=   0.0s\n",
      "[CV 3/5] END ..............................C=0.1, loss=hinge; total time=   0.0s\n",
      "[CV 4/5] END ..............................C=0.1, loss=hinge; total time=   0.0s\n",
      "[CV 5/5] END ..............................C=0.1, loss=hinge; total time=   0.0s\n",
      "[CV 1/5] END ......................C=0.1, loss=squared_hinge; total time=   0.0s\n",
      "[CV 2/5] END ......................C=0.1, loss=squared_hinge; total time=   0.0s\n",
      "[CV 3/5] END ......................C=0.1, loss=squared_hinge; total time=   0.0s\n",
      "[CV 4/5] END ......................C=0.1, loss=squared_hinge; total time=   0.0s\n",
      "[CV 5/5] END ......................C=0.1, loss=squared_hinge; total time=   0.0s\n",
      "[CV 1/5] END ................................C=1, loss=hinge; total time=   0.0s\n",
      "[CV 2/5] END ................................C=1, loss=hinge; total time=   0.0s\n",
      "[CV 3/5] END ................................C=1, loss=hinge; total time=   0.0s\n",
      "[CV 4/5] END ................................C=1, loss=hinge; total time=   0.0s\n",
      "[CV 5/5] END ................................C=1, loss=hinge; total time=   0.0s\n",
      "[CV 1/5] END ........................C=1, loss=squared_hinge; total time=   0.0s\n",
      "[CV 2/5] END ........................C=1, loss=squared_hinge; total time=   0.0s\n",
      "[CV 3/5] END ........................C=1, loss=squared_hinge; total time=   0.0s\n",
      "[CV 4/5] END ........................C=1, loss=squared_hinge; total time=   0.0s\n",
      "[CV 5/5] END ........................C=1, loss=squared_hinge; total time=   0.0s\n",
      "[CV 1/5] END ...............................C=10, loss=hinge; total time=   0.0s\n",
      "[CV 2/5] END ...............................C=10, loss=hinge; total time=   0.0s\n",
      "[CV 3/5] END ...............................C=10, loss=hinge; total time=   0.0s\n",
      "[CV 4/5] END ...............................C=10, loss=hinge; total time=   0.0s\n",
      "[CV 5/5] END ...............................C=10, loss=hinge; total time=   0.0s\n",
      "[CV 1/5] END .......................C=10, loss=squared_hinge; total time=   0.0s\n",
      "[CV 2/5] END .......................C=10, loss=squared_hinge; total time=   0.0s\n",
      "[CV 3/5] END .......................C=10, loss=squared_hinge; total time=   0.0s\n",
      "[CV 4/5] END .......................C=10, loss=squared_hinge; total time=   0.0s\n",
      "[CV 5/5] END .......................C=10, loss=squared_hinge; total time=   0.0s\n",
      "[CV 1/5] END ..............................C=100, loss=hinge; total time=   0.0s\n",
      "[CV 2/5] END ..............................C=100, loss=hinge; total time=   0.0s\n",
      "[CV 3/5] END ..............................C=100, loss=hinge; total time=   0.0s\n",
      "[CV 4/5] END ..............................C=100, loss=hinge; total time=   0.0s\n",
      "[CV 5/5] END ..............................C=100, loss=hinge; total time=   0.0s\n",
      "[CV 1/5] END ......................C=100, loss=squared_hinge; total time=   0.0s\n",
      "[CV 2/5] END ......................C=100, loss=squared_hinge; total time=   0.0s\n",
      "[CV 3/5] END ......................C=100, loss=squared_hinge; total time=   0.0s\n",
      "[CV 4/5] END ......................C=100, loss=squared_hinge; total time=   0.0s\n",
      "[CV 5/5] END ......................C=100, loss=squared_hinge; total time=   0.0s\n",
      "[CV 1/5] END .............................C=1000, loss=hinge; total time=   0.0s\n",
      "[CV 2/5] END .............................C=1000, loss=hinge; total time=   0.0s\n",
      "[CV 3/5] END .............................C=1000, loss=hinge; total time=   0.0s\n",
      "[CV 4/5] END .............................C=1000, loss=hinge; total time=   0.0s\n",
      "[CV 5/5] END .............................C=1000, loss=hinge; total time=   0.0s\n",
      "[CV 1/5] END .....................C=1000, loss=squared_hinge; total time=   0.0s\n",
      "[CV 2/5] END .....................C=1000, loss=squared_hinge; total time=   0.0s\n",
      "[CV 3/5] END .....................C=1000, loss=squared_hinge; total time=   0.0s\n",
      "[CV 4/5] END .....................C=1000, loss=squared_hinge; total time=   0.0s\n",
      "[CV 5/5] END .....................C=1000, loss=squared_hinge; total time=   0.0s\n"
     ]
    },
    {
     "data": {
      "text/plain": [
       "GridSearchCV(estimator=LinearSVC(max_iter=1000000, random_state=55),\n",
       "             param_grid={'C': [0.1, 1, 10, 100, 1000],\n",
       "                         'loss': ['hinge', 'squared_hinge']},\n",
       "             verbose=3)"
      ]
     },
     "execution_count": 128,
     "metadata": {},
     "output_type": "execute_result"
    }
   ],
   "source": [
    "grid.fit(X_t, y)"
   ]
  },
  {
   "cell_type": "code",
   "execution_count": 129,
   "id": "aa9d5b4b",
   "metadata": {},
   "outputs": [
    {
     "data": {
      "text/plain": [
       "LinearSVC(C=0.1, max_iter=1000000, random_state=55)"
      ]
     },
     "execution_count": 129,
     "metadata": {},
     "output_type": "execute_result"
    }
   ],
   "source": [
    "grid.best_estimator_"
   ]
  },
  {
   "cell_type": "code",
   "execution_count": 130,
   "id": "154b7ae6",
   "metadata": {},
   "outputs": [
    {
     "data": {
      "text/plain": [
       "{'C': 0.1, 'loss': 'squared_hinge'}"
      ]
     },
     "execution_count": 130,
     "metadata": {},
     "output_type": "execute_result"
    }
   ],
   "source": [
    "grid.best_params_"
   ]
  },
  {
   "cell_type": "code",
   "execution_count": 131,
   "id": "0e421233",
   "metadata": {},
   "outputs": [
    {
     "data": {
      "text/plain": [
       "0.96"
      ]
     },
     "execution_count": 131,
     "metadata": {},
     "output_type": "execute_result"
    }
   ],
   "source": [
    "grid.best_score_"
   ]
  },
  {
   "cell_type": "code",
   "execution_count": 132,
   "id": "5014547e",
   "metadata": {},
   "outputs": [],
   "source": [
    "predictions = grid.best_estimator_.predict(X_t)"
   ]
  },
  {
   "cell_type": "code",
   "execution_count": 133,
   "id": "4ea067ab",
   "metadata": {},
   "outputs": [
    {
     "name": "stdout",
     "output_type": "stream",
     "text": [
      "[[97  3]\n",
      " [ 4 46]]\n"
     ]
    }
   ],
   "source": [
    "print(confusion_matrix(y, predictions))"
   ]
  },
  {
   "cell_type": "code",
   "execution_count": 134,
   "id": "18fea848",
   "metadata": {},
   "outputs": [
    {
     "name": "stdout",
     "output_type": "stream",
     "text": [
      "              precision    recall  f1-score   support\n",
      "\n",
      "           0       0.96      0.97      0.97       100\n",
      "           1       0.94      0.92      0.93        50\n",
      "\n",
      "    accuracy                           0.95       150\n",
      "   macro avg       0.95      0.95      0.95       150\n",
      "weighted avg       0.95      0.95      0.95       150\n",
      "\n"
     ]
    }
   ],
   "source": [
    "print(classification_report(y, predictions))"
   ]
  },
  {
   "cell_type": "code",
   "execution_count": null,
   "id": "689289c9",
   "metadata": {},
   "outputs": [],
   "source": []
  }
 ],
 "metadata": {
  "kernelspec": {
   "display_name": "Python 3",
   "language": "python",
   "name": "python3"
  },
  "language_info": {
   "codemirror_mode": {
    "name": "ipython",
    "version": 3
   },
   "file_extension": ".py",
   "mimetype": "text/x-python",
   "name": "python",
   "nbconvert_exporter": "python",
   "pygments_lexer": "ipython3",
   "version": "3.8.8"
  }
 },
 "nbformat": 4,
 "nbformat_minor": 5
}
