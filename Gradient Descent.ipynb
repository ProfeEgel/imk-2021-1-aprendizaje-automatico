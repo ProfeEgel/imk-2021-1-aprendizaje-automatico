{
 "cells": [
  {
   "cell_type": "code",
   "execution_count": 2,
   "id": "8a5d07ff",
   "metadata": {},
   "outputs": [],
   "source": [
    "import numpy as np"
   ]
  },
  {
   "cell_type": "code",
   "execution_count": 11,
   "id": "27eb6e6f",
   "metadata": {},
   "outputs": [],
   "source": [
    "m = 3"
   ]
  },
  {
   "cell_type": "code",
   "execution_count": 12,
   "id": "dbb50cfb",
   "metadata": {},
   "outputs": [
    {
     "data": {
      "text/plain": [
       "array([[ 1, 10],\n",
       "       [ 1,  5],\n",
       "       [ 1,  4]])"
      ]
     },
     "execution_count": 12,
     "metadata": {},
     "output_type": "execute_result"
    }
   ],
   "source": [
    "X = np.array([[1,10], [1,5], [1,4]])\n",
    "X"
   ]
  },
  {
   "cell_type": "code",
   "execution_count": 60,
   "id": "d253466d",
   "metadata": {},
   "outputs": [
    {
     "data": {
      "text/plain": [
       "array([[7],\n",
       "       [4],\n",
       "       [3]])"
      ]
     },
     "execution_count": 60,
     "metadata": {},
     "output_type": "execute_result"
    }
   ],
   "source": [
    "y = np.array([[7], [4], [3]])\n",
    "y"
   ]
  },
  {
   "cell_type": "code",
   "execution_count": 61,
   "id": "6d040cab",
   "metadata": {},
   "outputs": [
    {
     "data": {
      "text/plain": [
       "array([[0.5],\n",
       "       [0.1]])"
      ]
     },
     "execution_count": 61,
     "metadata": {},
     "output_type": "execute_result"
    }
   ],
   "source": [
    "theta = np.array([[0.5], [0.1]])\n",
    "theta"
   ]
  },
  {
   "cell_type": "code",
   "execution_count": 62,
   "id": "cfceb578",
   "metadata": {},
   "outputs": [
    {
     "data": {
      "text/plain": [
       "array([[1.5],\n",
       "       [1. ],\n",
       "       [0.9]])"
      ]
     },
     "execution_count": 62,
     "metadata": {},
     "output_type": "execute_result"
    }
   ],
   "source": [
    "X@theta"
   ]
  },
  {
   "cell_type": "code",
   "execution_count": 63,
   "id": "8d1b9773",
   "metadata": {},
   "outputs": [
    {
     "data": {
      "text/plain": [
       "array([[-5.5],\n",
       "       [-3. ],\n",
       "       [-2.1]])"
      ]
     },
     "execution_count": 63,
     "metadata": {},
     "output_type": "execute_result"
    }
   ],
   "source": [
    "X@theta - y"
   ]
  },
  {
   "cell_type": "code",
   "execution_count": 64,
   "id": "15c6062c",
   "metadata": {},
   "outputs": [
    {
     "data": {
      "text/plain": [
       "-10.6"
      ]
     },
     "execution_count": 64,
     "metadata": {},
     "output_type": "execute_result"
    }
   ],
   "source": [
    "(X@theta-y).sum()"
   ]
  },
  {
   "cell_type": "code",
   "execution_count": 65,
   "id": "b2527124",
   "metadata": {},
   "outputs": [
    {
     "data": {
      "text/plain": [
       "-3.533333333333333"
      ]
     },
     "execution_count": 65,
     "metadata": {},
     "output_type": "execute_result"
    }
   ],
   "source": [
    "dth0 = (1/m)*((X@theta-y).sum())\n",
    "dth0"
   ]
  },
  {
   "cell_type": "code",
   "execution_count": 66,
   "id": "2363b091",
   "metadata": {},
   "outputs": [
    {
     "data": {
      "text/plain": [
       "7.2766666666666655"
      ]
     },
     "execution_count": 66,
     "metadata": {},
     "output_type": "execute_result"
    }
   ],
   "source": [
    "J = (1/(2*m))*(((X@theta-y)**2).sum())\n",
    "J"
   ]
  },
  {
   "cell_type": "code",
   "execution_count": 73,
   "id": "d4fb4188",
   "metadata": {},
   "outputs": [
    {
     "data": {
      "text/plain": [
       "array([[-5.5],\n",
       "       [-3. ],\n",
       "       [-2.1]])"
      ]
     },
     "execution_count": 73,
     "metadata": {},
     "output_type": "execute_result"
    }
   ],
   "source": [
    "X@theta-y"
   ]
  },
  {
   "cell_type": "code",
   "execution_count": 74,
   "id": "722caec2",
   "metadata": {},
   "outputs": [
    {
     "data": {
      "text/plain": [
       "array([10,  5,  4])"
      ]
     },
     "execution_count": 74,
     "metadata": {},
     "output_type": "execute_result"
    }
   ],
   "source": [
    "X[:,1]"
   ]
  },
  {
   "cell_type": "code",
   "execution_count": 77,
   "id": "5376a28e",
   "metadata": {},
   "outputs": [
    {
     "data": {
      "text/plain": [
       "array([-78.4])"
      ]
     },
     "execution_count": 77,
     "metadata": {},
     "output_type": "execute_result"
    }
   ],
   "source": [
    "X[:,1]@(X@theta-y)"
   ]
  },
  {
   "cell_type": "code",
   "execution_count": 80,
   "id": "26a74bbe",
   "metadata": {},
   "outputs": [
    {
     "data": {
      "text/plain": [
       "-26.133333333333333"
      ]
     },
     "execution_count": 80,
     "metadata": {},
     "output_type": "execute_result"
    }
   ],
   "source": [
    "dth1 = (1/m)*(X[:,1]@(X@theta-y))\n",
    "dth1"
   ]
  },
  {
   "cell_type": "code",
   "execution_count": 81,
   "id": "17f4cd85",
   "metadata": {},
   "outputs": [
    {
     "data": {
      "text/plain": [
       "[[-3.533333333333333], [-26.133333333333333]]"
      ]
     },
     "execution_count": 81,
     "metadata": {},
     "output_type": "execute_result"
    }
   ],
   "source": [
    "[[dth0], [dth1[0]]]"
   ]
  },
  {
   "cell_type": "code",
   "execution_count": 85,
   "id": "90196ace",
   "metadata": {},
   "outputs": [
    {
     "data": {
      "text/plain": [
       "array([-3.53333333])"
      ]
     },
     "execution_count": 85,
     "metadata": {},
     "output_type": "execute_result"
    }
   ],
   "source": [
    "dth0 = (1/m)*(X[:,0]@(X@theta-y))\n",
    "dth0"
   ]
  },
  {
   "cell_type": "code",
   "execution_count": 86,
   "id": "61b8b063",
   "metadata": {},
   "outputs": [
    {
     "data": {
      "text/plain": [
       "array([-26.13333333])"
      ]
     },
     "execution_count": 86,
     "metadata": {},
     "output_type": "execute_result"
    }
   ],
   "source": [
    "dth1 = (1/m)*(X[:,1]@(X@theta-y))\n",
    "dth1"
   ]
  },
  {
   "cell_type": "code",
   "execution_count": 90,
   "id": "7c60221f",
   "metadata": {},
   "outputs": [
    {
     "data": {
      "text/plain": [
       "array([[ -3.53333333],\n",
       "       [-26.13333333]])"
      ]
     },
     "execution_count": 90,
     "metadata": {},
     "output_type": "execute_result"
    }
   ],
   "source": [
    "dth = (1/m)*(X.T @ (X@theta-y))\n",
    "dth"
   ]
  },
  {
   "cell_type": "code",
   "execution_count": null,
   "id": "4ea394e7",
   "metadata": {},
   "outputs": [],
   "source": []
  }
 ],
 "metadata": {
  "kernelspec": {
   "display_name": "Python 3",
   "language": "python",
   "name": "python3"
  },
  "language_info": {
   "codemirror_mode": {
    "name": "ipython",
    "version": 3
   },
   "file_extension": ".py",
   "mimetype": "text/x-python",
   "name": "python",
   "nbconvert_exporter": "python",
   "pygments_lexer": "ipython3",
   "version": "3.8.8"
  }
 },
 "nbformat": 4,
 "nbformat_minor": 5
}
