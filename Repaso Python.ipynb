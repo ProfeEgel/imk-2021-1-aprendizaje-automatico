{
 "cells": [
  {
   "cell_type": "markdown",
   "id": "narrative-primary",
   "metadata": {},
   "source": [
    "# Esto es una etiqueta\n",
    "\n",
    "<b>Esto es <i>importante</i><b>"
   ]
  },
  {
   "cell_type": "markdown",
   "id": "micro-reset",
   "metadata": {},
   "source": [
    "$$ \\theta_{(i)} = \\frac{x+y}{a+b^2} $$\n",
    "$$ \\sum_{i=0}^{j}(X_1\\cdot X^T)$$"
   ]
  },
  {
   "cell_type": "code",
   "execution_count": 9,
   "id": "durable-solomon",
   "metadata": {},
   "outputs": [
    {
     "name": "stdout",
     "output_type": "stream",
     "text": [
      "9\n",
      "1\n",
      "1.25\n",
      "2\n",
      "1\n",
      "16\n"
     ]
    }
   ],
   "source": [
    "# Esto es un comentario\n",
    "print(5+4)\n",
    "print(5-4)\n",
    "print(5/4)\n",
    "print(9//4)\n",
    "print(5%4)\n",
    "print(2**4)"
   ]
  },
  {
   "cell_type": "code",
   "execution_count": 16,
   "id": "embedded-width",
   "metadata": {},
   "outputs": [
    {
     "name": "stdout",
     "output_type": "stream",
     "text": [
      "<class 'int'>\n",
      "<class 'float'>\n",
      "<class 'str'>\n",
      "<class 'bool'>\n",
      "<class 'complex'>\n"
     ]
    }
   ],
   "source": [
    "print(type(5))\n",
    "print(type(5.5))\n",
    "print(type(\"5\"))\n",
    "print(type(True))\n",
    "print(type(5+7j))"
   ]
  },
  {
   "cell_type": "code",
   "execution_count": 31,
   "id": "postal-illustration",
   "metadata": {},
   "outputs": [
    {
     "name": "stdout",
     "output_type": "stream",
     "text": [
      "<class 'list'>\n",
      "<class 'set'>\n",
      "<class 'tuple'>\n",
      "<class 'dict'>\n"
     ]
    }
   ],
   "source": [
    "print(type([1, 2, 5, 6]))\n",
    "print(type({1, 2, 5, 6}))\n",
    "print(type((1, 2, 3, 4)))\n",
    "print(type({ 'a':45.6, 'b':74.2, 'c':14}))"
   ]
  },
  {
   "cell_type": "code",
   "execution_count": null,
   "id": "warming-spouse",
   "metadata": {},
   "outputs": [],
   "source": []
  }
 ],
 "metadata": {
  "kernelspec": {
   "display_name": "Python 3",
   "language": "python",
   "name": "python3"
  },
  "language_info": {
   "codemirror_mode": {
    "name": "ipython",
    "version": 3
   },
   "file_extension": ".py",
   "mimetype": "text/x-python",
   "name": "python",
   "nbconvert_exporter": "python",
   "pygments_lexer": "ipython3",
   "version": "3.8.8"
  }
 },
 "nbformat": 4,
 "nbformat_minor": 5
}
